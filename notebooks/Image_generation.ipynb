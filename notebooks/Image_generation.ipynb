{
 "cells": [
  {
   "metadata": {
    "ExecuteTime": {
     "end_time": "2025-07-08T12:22:11.566801400Z",
     "start_time": "2025-07-07T08:26:36.349724Z"
    }
   },
   "cell_type": "code",
   "source": [
    "from dotenv import load_dotenv\n",
    "import os\n",
    "import google.generativeai as genai"
   ],
   "id": "649cc1d652e418c3",
   "outputs": [
    {
     "name": "stderr",
     "output_type": "stream",
     "text": [
      "C:\\Users\\namel\\.conda\\envs\\PoliticalDS\\Lib\\site-packages\\tqdm\\auto.py:21: TqdmWarning: IProgress not found. Please update jupyter and ipywidgets. See https://ipywidgets.readthedocs.io/en/stable/user_install.html\n",
      "  from .autonotebook import tqdm as notebook_tqdm\n"
     ]
    }
   ],
   "execution_count": 1
  },
  {
   "metadata": {
    "ExecuteTime": {
     "end_time": "2025-07-08T12:22:11.599202300Z",
     "start_time": "2025-07-07T08:26:37.621314Z"
    }
   },
   "cell_type": "code",
   "source": [
    "# personal.env laden — Pfad ggf. anpassen\n",
    "load_dotenv(\"../personal.env\")\n",
    "API_Token = os.getenv(\"GEMINI_API_KEY\")"
   ],
   "id": "baaea0e114765f2e",
   "outputs": [],
   "execution_count": 2
  },
  {
   "cell_type": "code",
   "id": "initial_id",
   "metadata": {
    "collapsed": true,
    "ExecuteTime": {
     "end_time": "2025-07-08T12:22:11.600405700Z",
     "start_time": "2025-07-07T08:27:12.699195Z"
    }
   },
   "source": [
    "api_key = API_Token\n",
    "\n",
    "genai.configure(api_key=api_key)\n",
    "model_name = 'gemini-2.0-flash'\n",
    "\n",
    "model = genai.GenerativeModel(model_name)\n",
    "\n",
    "\n",
    "def generiere_bild(prompt_instruction: str, bildbeschreibung: str):\n",
    "    \"\"\"\n",
    "    Sendet eine Bildgenerierungsanfrage an das Modell mit einer klaren Bildbeschreibung.\n",
    "\n",
    "    Parameter:\n",
    "    ----------\n",
    "    prompt_instruction : str\n",
    "        Anweisung an das Modell, z. B. \"Generiere mir ein Bild von ...\"\n",
    "    bildbeschreibung : str\n",
    "        Detaillierte Beschreibung des gewünschten Bildinhalts.\n",
    "\n",
    "    Rückgabe:\n",
    "    ---------\n",
    "    str oder None:\n",
    "        Rückgabe der Bildbeschreibung oder Fehlermeldung.\n",
    "    \"\"\"\n",
    "\n",
    "    full_prompt = f\"{prompt_instruction}\\n\\n{bildbeschreibung}\"\n",
    "\n",
    "    # Sende die Anfrage an das Modell\n",
    "    response = model.generate_image(full_prompt)\n",
    "    image_data = response.image\n",
    "\n",
    "    return image_data"
   ],
   "outputs": [],
   "execution_count": 4
  },
  {
   "metadata": {
    "ExecuteTime": {
     "end_time": "2025-07-08T12:22:11.523507Z",
     "start_time": "2025-07-08T12:22:11.092346Z"
    }
   },
   "cell_type": "code",
   "source": [
    "prompt = \"Generate an image of a brown cat. Playing with a ball. I do not have any further prerequisites. Do not ask any questions. Only give back the image.\"\n",
    "text = \"\"\n",
    "\n",
    "antwort = generiere_bild(prompt, text)\n",
    "print(antwort)"
   ],
   "id": "dad1753aa02891f4",
   "outputs": [
    {
     "ename": "NameError",
     "evalue": "name 'generiere_bild' is not defined",
     "output_type": "error",
     "traceback": [
      "\u001B[31m---------------------------------------------------------------------------\u001B[39m",
      "\u001B[31mNameError\u001B[39m                                 Traceback (most recent call last)",
      "\u001B[36mCell\u001B[39m\u001B[36m \u001B[39m\u001B[32mIn[1]\u001B[39m\u001B[32m, line 4\u001B[39m\n\u001B[32m      1\u001B[39m prompt = \u001B[33m\"\u001B[39m\u001B[33mGenerate an image of a brown cat. Playing with a ball. I do not have any further prerequisites. Do not ask any questions. Only give back the image.\u001B[39m\u001B[33m\"\u001B[39m\n\u001B[32m      2\u001B[39m text = \u001B[33m\"\u001B[39m\u001B[33m\"\u001B[39m\n\u001B[32m----> \u001B[39m\u001B[32m4\u001B[39m antwort = \u001B[43mgeneriere_bild\u001B[49m(prompt, text)\n\u001B[32m      5\u001B[39m \u001B[38;5;28mprint\u001B[39m(antwort)\n",
      "\u001B[31mNameError\u001B[39m: name 'generiere_bild' is not defined"
     ]
    }
   ],
   "execution_count": 1
  }
 ],
 "metadata": {
  "kernelspec": {
   "display_name": "Python 3",
   "language": "python",
   "name": "python3"
  },
  "language_info": {
   "codemirror_mode": {
    "name": "ipython",
    "version": 2
   },
   "file_extension": ".py",
   "mimetype": "text/x-python",
   "name": "python",
   "nbconvert_exporter": "python",
   "pygments_lexer": "ipython2",
   "version": "2.7.6"
  }
 },
 "nbformat": 4,
 "nbformat_minor": 5
}
