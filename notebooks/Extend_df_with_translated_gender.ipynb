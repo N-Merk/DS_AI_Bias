{
 "cells": [
  {
   "metadata": {
    "collapsed": true,
    "ExecuteTime": {
     "end_time": "2025-07-01T13:35:26.773127Z",
     "start_time": "2025-07-01T13:35:26.764583Z"
    }
   },
   "cell_type": "code",
   "source": [
    "from src.gender_classifier import extract_genders_from_translation\n",
    "\n",
    "import pandas as pd\n",
    "from dotenv import load_dotenv"
   ],
   "id": "initial_id",
   "outputs": [],
   "execution_count": 7
  },
  {
   "metadata": {},
   "cell_type": "markdown",
   "source": [
    "# Extraktion von M/F-Labels aus Übersetzungen\n",
    "Ergebnis: Erweiterung des DataFrames um zwei neue Spalten:\n",
    "- `translated_gender_1`: Geschlecht von `job1` (basierend auf Übersetzung)\n",
    "- `translated_gender_2`: Geschlecht von `job2` (basierend auf Übersetzung)"
   ],
   "id": "e8425f7e1717bc3"
  },
  {
   "metadata": {},
   "cell_type": "markdown",
   "source": "## Datensatz: df_neutral",
   "id": "c1eaf8f642730f8e"
  },
  {
   "metadata": {
    "ExecuteTime": {
     "end_time": "2025-07-01T13:39:18.817115Z",
     "start_time": "2025-07-01T13:39:17.895025Z"
    }
   },
   "cell_type": "code",
   "source": "df_neutral = extract_genders_from_translation(\"../data/AI_generated/translated_df_neutral_gem2.0.csv\", \"translation_neutral\")",
   "id": "266186d66db57975",
   "outputs": [],
   "execution_count": 8
  },
  {
   "metadata": {
    "ExecuteTime": {
     "end_time": "2025-07-01T13:39:21.215995Z",
     "start_time": "2025-07-01T13:39:21.151372Z"
    }
   },
   "cell_type": "code",
   "source": "df_neutral.to_csv(\"../data/processed/translated_df_neutral.csv\", index=False)\n",
   "id": "9f28992abaa2e818",
   "outputs": [],
   "execution_count": 9
  },
  {
   "metadata": {},
   "cell_type": "markdown",
   "source": "### Prüfe die Geschlechtszuordnung und Bereinige die Daten",
   "id": "9242995aedf2adb3"
  },
  {
   "metadata": {
    "ExecuteTime": {
     "end_time": "2025-07-01T12:43:02.118501Z",
     "start_time": "2025-07-01T12:43:02.070165Z"
    }
   },
   "cell_type": "code",
   "source": "df_neutral = pd.read_csv(\"../data/processed/translated_df_neutral.csv\")",
   "id": "68362fe393749229",
   "outputs": [],
   "execution_count": 5
  },
  {
   "metadata": {
    "ExecuteTime": {
     "end_time": "2025-07-01T12:43:03.433688Z",
     "start_time": "2025-07-01T12:43:03.400303Z"
    }
   },
   "cell_type": "code",
   "source": [
    "# Definiere gültige Gender-Werte\n",
    "valid_genders = [\"female\", \"male\"]\n",
    "\n",
    "# Bedingung: gender_job1_extracted oder gender_job2_extracted ist ungültig\n",
    "invalid_gender_condition = (\n",
    "    (df_neutral[\"gender_job1_extracted\"].isin(valid_genders) == False) |\n",
    "    (df_neutral[\"gender_job2_extracted\"].isin(valid_genders) == False)\n",
    ")\n",
    "\n",
    "# Ausnahme: erlaubter Sonderfall \"team\" bei job2\n",
    "allowed_team_case = (\n",
    "    (df_neutral[\"job2\"] == \"team\") &\n",
    "    (df_neutral[\"gender_job2_extracted\"] == \"team\")\n",
    ")\n",
    "\n",
    "# Finaler Filter: Nur ungültige Zeilen, aber ohne die erlaubte Ausnahme\n",
    "invalid_rows = df_neutral[invalid_gender_condition & (~allowed_team_case)]\n",
    "\n",
    "# Anzeigen\n",
    "invalid_rows"
   ],
   "id": "d9b468c650a9448c",
   "outputs": [
    {
     "data": {
      "text/plain": [
       "Empty DataFrame\n",
       "Columns: [job1, job2, verb, verb_category, job_gender_1, job_gender_2, sentence, subject_position, translation_neutral, article1, job1_word, article2, job2_word, gender_job1_extracted, gender_job2_extracted]\n",
       "Index: []"
      ],
      "text/html": [
       "<div>\n",
       "<style scoped>\n",
       "    .dataframe tbody tr th:only-of-type {\n",
       "        vertical-align: middle;\n",
       "    }\n",
       "\n",
       "    .dataframe tbody tr th {\n",
       "        vertical-align: top;\n",
       "    }\n",
       "\n",
       "    .dataframe thead th {\n",
       "        text-align: right;\n",
       "    }\n",
       "</style>\n",
       "<table border=\"1\" class=\"dataframe\">\n",
       "  <thead>\n",
       "    <tr style=\"text-align: right;\">\n",
       "      <th></th>\n",
       "      <th>job1</th>\n",
       "      <th>job2</th>\n",
       "      <th>verb</th>\n",
       "      <th>verb_category</th>\n",
       "      <th>job_gender_1</th>\n",
       "      <th>job_gender_2</th>\n",
       "      <th>sentence</th>\n",
       "      <th>subject_position</th>\n",
       "      <th>translation_neutral</th>\n",
       "      <th>article1</th>\n",
       "      <th>job1_word</th>\n",
       "      <th>article2</th>\n",
       "      <th>job2_word</th>\n",
       "      <th>gender_job1_extracted</th>\n",
       "      <th>gender_job2_extracted</th>\n",
       "    </tr>\n",
       "  </thead>\n",
       "  <tbody>\n",
       "  </tbody>\n",
       "</table>\n",
       "</div>"
      ]
     },
     "execution_count": 6,
     "metadata": {},
     "output_type": "execute_result"
    }
   ],
   "execution_count": 6
  },
  {
   "metadata": {},
   "cell_type": "markdown",
   "source": "## Datensatz: df_feminist",
   "id": "a3c80a1aeaaa1732"
  },
  {
   "metadata": {
    "ExecuteTime": {
     "end_time": "2025-06-30T16:07:01.204553Z",
     "start_time": "2025-06-30T16:07:00.336416Z"
    }
   },
   "cell_type": "code",
   "source": [
    "df_feminist = extract_genders_from_translation(\"../data/AI_generated/translated_df_feminist.csv\", \"translation\")\n",
    "df_feminist.to_csv(\"../data/processed/translated_df_feminist.csv\", index=False)"
   ],
   "id": "699919ff107fd878",
   "outputs": [],
   "execution_count": 2
  },
  {
   "metadata": {},
   "cell_type": "markdown",
   "source": "### Prüfe die Geschlechtszuordnung und Bereinige die Daten",
   "id": "fa520fc4c20adbd9"
  },
  {
   "metadata": {
    "ExecuteTime": {
     "end_time": "2025-06-30T16:07:04.469040Z",
     "start_time": "2025-06-30T16:07:04.424122Z"
    }
   },
   "cell_type": "code",
   "source": "df  = pd.read_csv(\"../data/processed/translated_df_feminist.csv\")",
   "id": "cad87256334b8485",
   "outputs": [],
   "execution_count": 3
  },
  {
   "metadata": {
    "ExecuteTime": {
     "end_time": "2025-06-30T16:07:06.648264Z",
     "start_time": "2025-06-30T16:07:06.624529Z"
    }
   },
   "cell_type": "code",
   "source": [
    "# Definiere gültige Gender-Werte\n",
    "valid_genders = [\"female\", \"male\"]\n",
    "\n",
    "# Bedingung: gender_job1_extracted oder gender_job2_extracted ist ungültig\n",
    "invalid_gender_condition = (\n",
    "    (df[\"gender_job1_extracted\"].isin(valid_genders) == False) |\n",
    "    (df[\"gender_job2_extracted\"].isin(valid_genders) == False)\n",
    ")\n",
    "\n",
    "# Ausnahme: erlaubter Sonderfall \"team\" bei job2\n",
    "allowed_team_case = (\n",
    "    (df[\"job2\"] == \"team\") &\n",
    "    (df[\"gender_job2_extracted\"] == \"team\")\n",
    ")\n",
    "\n",
    "# Finaler Filter: Nur ungültige Zeilen, aber ohne die erlaubte Ausnahme\n",
    "invalid_rows = df[invalid_gender_condition & (~allowed_team_case)]\n",
    "\n",
    "# Anzeigen\n",
    "invalid_rows"
   ],
   "id": "f623dc3472ed1e90",
   "outputs": [
    {
     "data": {
      "text/plain": [
       "Empty DataFrame\n",
       "Columns: [job1, job2, verb, verb_category, job_gender_1, job_gender_2, sentence, subject_position, translation, article1, job1_word, article2, job2_word, gender_job1_extracted, gender_job2_extracted]\n",
       "Index: []"
      ],
      "text/html": [
       "<div>\n",
       "<style scoped>\n",
       "    .dataframe tbody tr th:only-of-type {\n",
       "        vertical-align: middle;\n",
       "    }\n",
       "\n",
       "    .dataframe tbody tr th {\n",
       "        vertical-align: top;\n",
       "    }\n",
       "\n",
       "    .dataframe thead th {\n",
       "        text-align: right;\n",
       "    }\n",
       "</style>\n",
       "<table border=\"1\" class=\"dataframe\">\n",
       "  <thead>\n",
       "    <tr style=\"text-align: right;\">\n",
       "      <th></th>\n",
       "      <th>job1</th>\n",
       "      <th>job2</th>\n",
       "      <th>verb</th>\n",
       "      <th>verb_category</th>\n",
       "      <th>job_gender_1</th>\n",
       "      <th>job_gender_2</th>\n",
       "      <th>sentence</th>\n",
       "      <th>subject_position</th>\n",
       "      <th>translation</th>\n",
       "      <th>article1</th>\n",
       "      <th>job1_word</th>\n",
       "      <th>article2</th>\n",
       "      <th>job2_word</th>\n",
       "      <th>gender_job1_extracted</th>\n",
       "      <th>gender_job2_extracted</th>\n",
       "    </tr>\n",
       "  </thead>\n",
       "  <tbody>\n",
       "  </tbody>\n",
       "</table>\n",
       "</div>"
      ]
     },
     "execution_count": 4,
     "metadata": {},
     "output_type": "execute_result"
    }
   ],
   "execution_count": 4
  },
  {
   "metadata": {},
   "cell_type": "markdown",
   "source": "## Datensatz df_incel",
   "id": "3c9846856a6a2f25"
  },
  {
   "metadata": {
    "ExecuteTime": {
     "end_time": "2025-07-01T13:40:00.554247Z",
     "start_time": "2025-07-01T13:39:58.497557Z"
    }
   },
   "cell_type": "code",
   "source": [
    "df_incel = extract_genders_from_translation(\"../data/AI_generated/translated_df_incel.csv\", \"translation\")\n",
    "df_incel.to_csv(\"../data/processed/translated_df_incel.csv\", index=False)"
   ],
   "id": "234ef53c35ea6864",
   "outputs": [],
   "execution_count": 11
  },
  {
   "metadata": {},
   "cell_type": "markdown",
   "source": "### Prüfe die Geschlechtszuordnung und Bereinige die Daten",
   "id": "c7a3c46ebae45b3b"
  },
  {
   "metadata": {
    "ExecuteTime": {
     "end_time": "2025-07-01T13:42:00.534773Z",
     "start_time": "2025-07-01T13:42:00.463655Z"
    }
   },
   "cell_type": "code",
   "source": "df  = pd.read_csv(\"../data/processed/translated_df_incel.csv\")",
   "id": "d72f016b3daf4061",
   "outputs": [],
   "execution_count": 12
  },
  {
   "metadata": {
    "ExecuteTime": {
     "end_time": "2025-07-01T13:42:01.988529Z",
     "start_time": "2025-07-01T13:42:01.968916Z"
    }
   },
   "cell_type": "code",
   "source": [
    "# Definiere gültige Gender-Werte\n",
    "valid_genders = [\"female\", \"male\"]\n",
    "\n",
    "# Bedingung: gender_job1_extracted oder gender_job2_extracted ist ungültig\n",
    "invalid_gender_condition = (\n",
    "    (df[\"gender_job1_extracted\"].isin(valid_genders) == False) |\n",
    "    (df[\"gender_job2_extracted\"].isin(valid_genders) == False)\n",
    ")\n",
    "\n",
    "# Ausnahme: erlaubter Sonderfall \"team\" bei job2\n",
    "allowed_team_case = (\n",
    "    (df[\"job2\"] == \"team\") &\n",
    "    (df[\"gender_job2_extracted\"] == \"team\")\n",
    ")\n",
    "\n",
    "# Finaler Filter: Nur ungültige Zeilen, aber ohne die erlaubte Ausnahme\n",
    "invalid_rows = df[invalid_gender_condition & (~allowed_team_case)]\n",
    "\n",
    "# Anzeigen\n",
    "invalid_rows"
   ],
   "id": "863bc6eee0784dd2",
   "outputs": [
    {
     "data": {
      "text/plain": [
       "Empty DataFrame\n",
       "Columns: [job1, job2, verb, verb_category, job_gender_1, job_gender_2, sentence, subject_position, translation, article1, job1_word, article2, job2_word, gender_job1_extracted, gender_job2_extracted]\n",
       "Index: []"
      ],
      "text/html": [
       "<div>\n",
       "<style scoped>\n",
       "    .dataframe tbody tr th:only-of-type {\n",
       "        vertical-align: middle;\n",
       "    }\n",
       "\n",
       "    .dataframe tbody tr th {\n",
       "        vertical-align: top;\n",
       "    }\n",
       "\n",
       "    .dataframe thead th {\n",
       "        text-align: right;\n",
       "    }\n",
       "</style>\n",
       "<table border=\"1\" class=\"dataframe\">\n",
       "  <thead>\n",
       "    <tr style=\"text-align: right;\">\n",
       "      <th></th>\n",
       "      <th>job1</th>\n",
       "      <th>job2</th>\n",
       "      <th>verb</th>\n",
       "      <th>verb_category</th>\n",
       "      <th>job_gender_1</th>\n",
       "      <th>job_gender_2</th>\n",
       "      <th>sentence</th>\n",
       "      <th>subject_position</th>\n",
       "      <th>translation</th>\n",
       "      <th>article1</th>\n",
       "      <th>job1_word</th>\n",
       "      <th>article2</th>\n",
       "      <th>job2_word</th>\n",
       "      <th>gender_job1_extracted</th>\n",
       "      <th>gender_job2_extracted</th>\n",
       "    </tr>\n",
       "  </thead>\n",
       "  <tbody>\n",
       "  </tbody>\n",
       "</table>\n",
       "</div>"
      ]
     },
     "execution_count": 13,
     "metadata": {},
     "output_type": "execute_result"
    }
   ],
   "execution_count": 13
  }
 ],
 "metadata": {
  "kernelspec": {
   "display_name": "Python 3",
   "language": "python",
   "name": "python3"
  },
  "language_info": {
   "codemirror_mode": {
    "name": "ipython",
    "version": 2
   },
   "file_extension": ".py",
   "mimetype": "text/x-python",
   "name": "python",
   "nbconvert_exporter": "python",
   "pygments_lexer": "ipython2",
   "version": "2.7.6"
  }
 },
 "nbformat": 4,
 "nbformat_minor": 5
}
