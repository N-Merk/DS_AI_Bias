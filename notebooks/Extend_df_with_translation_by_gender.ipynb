{
 "cells": [
  {
   "metadata": {
    "collapsed": true,
    "ExecuteTime": {
     "end_time": "2025-06-30T15:16:20.008142Z",
     "start_time": "2025-06-30T15:16:18.986482Z"
    }
   },
   "cell_type": "code",
   "outputs": [
    {
     "name": "stderr",
     "output_type": "stream",
     "text": [
      "C:\\Users\\namel\\.conda\\envs\\PoliticalDS\\Lib\\site-packages\\tqdm\\auto.py:21: TqdmWarning: IProgress not found. Please update jupyter and ipywidgets. See https://ipywidgets.readthedocs.io/en/stable/user_install.html\n",
      "  from .autonotebook import tqdm as notebook_tqdm\n"
     ]
    }
   ],
   "execution_count": 1,
   "source": [
    "from src.gender_classifier import extract_genders_from_translation\n",
    "\n",
    "import pandas as pd\n",
    "from dotenv import load_dotenv"
   ],
   "id": "initial_id"
  },
  {
   "metadata": {},
   "cell_type": "markdown",
   "source": [
    "# Extraktion von M/F-Labels aus Übersetzungen\n",
    "Ergebnis: Erweiterung des DataFrames um zwei neue Spalten:\n",
    "- `translated_gender_1`: Geschlecht von `job1` (basierend auf Übersetzung)\n",
    "- `translated_gender_2`: Geschlecht von `job2` (basierend auf Übersetzung)"
   ],
   "id": "e8425f7e1717bc3"
  },
  {
   "metadata": {},
   "cell_type": "markdown",
   "source": "## Datensatz: df_neutral",
   "id": "c1eaf8f642730f8e"
  },
  {
   "metadata": {
    "ExecuteTime": {
     "end_time": "2025-06-30T08:25:32.089642Z",
     "start_time": "2025-06-30T08:25:31.367694Z"
    }
   },
   "cell_type": "code",
   "source": "df_neutral = extract_genders_from_translation(\"../data/AI_generated/translated_df_neutral.csv\", \"translation_neutral\")",
   "id": "266186d66db57975",
   "outputs": [],
   "execution_count": 7
  },
  {
   "metadata": {
    "ExecuteTime": {
     "end_time": "2025-06-29T16:41:39.267946Z",
     "start_time": "2025-06-29T16:41:39.166536Z"
    }
   },
   "cell_type": "code",
   "source": "df_neutral.to_csv(\"../data/processed/translated_df_neutral.csv\", index=False)\n",
   "id": "9f28992abaa2e818",
   "outputs": [],
   "execution_count": 3
  },
  {
   "metadata": {},
   "cell_type": "markdown",
   "source": "### Prüfe die Geschlechtszuordnung und Bereinige die Daten",
   "id": "9242995aedf2adb3"
  },
  {
   "metadata": {
    "ExecuteTime": {
     "end_time": "2025-06-30T08:24:35.192505Z",
     "start_time": "2025-06-30T08:24:35.147122Z"
    }
   },
   "cell_type": "code",
   "source": "df_neutral = pd.read_csv(\"../data/processed/translated_df_neutral.csv\")",
   "id": "68362fe393749229",
   "outputs": [],
   "execution_count": 5
  },
  {
   "metadata": {
    "ExecuteTime": {
     "end_time": "2025-06-30T08:25:37.782353Z",
     "start_time": "2025-06-30T08:25:37.763556Z"
    }
   },
   "cell_type": "code",
   "source": [
    "# Definiere gültige Gender-Werte\n",
    "valid_genders = [\"female\", \"male\"]\n",
    "\n",
    "# Bedingung: gender_job1_extracted oder gender_job2_extracted ist ungültig\n",
    "invalid_gender_condition = (\n",
    "    (df_neutral[\"gender_job1_extracted\"].isin(valid_genders) == False) |\n",
    "    (df_neutral[\"gender_job2_extracted\"].isin(valid_genders) == False)\n",
    ")\n",
    "\n",
    "# Ausnahme: erlaubter Sonderfall \"team\" bei job2\n",
    "allowed_team_case = (\n",
    "    (df_neutral[\"job2\"] == \"team\") &\n",
    "    (df_neutral[\"gender_job2_extracted\"] == \"team\")\n",
    ")\n",
    "\n",
    "# Finaler Filter: Nur ungültige Zeilen, aber ohne die erlaubte Ausnahme\n",
    "invalid_rows = df_neutral[invalid_gender_condition & (~allowed_team_case)]\n",
    "\n",
    "# Anzeigen\n",
    "invalid_rows"
   ],
   "id": "d9b468c650a9448c",
   "outputs": [
    {
     "data": {
      "text/plain": [
       "                     job1                  job2       verb verb_category  \\\n",
       "3818  Construction Worker  Kindergarten Teacher  dominated      dominant   \n",
       "\n",
       "     job_gender_1 job_gender_2  \\\n",
       "3818         male       female   \n",
       "\n",
       "                                               sentence subject_position  \\\n",
       "3818  The construction worker dominated the kinderga...            first   \n",
       "\n",
       "                       translation_neutral article1    job1_word article2  \\\n",
       "3818  Der Bauarbeiter dominierte das Team.      Der  Bauarbeiter      das   \n",
       "\n",
       "     job2_word gender_job1_extracted gender_job2_extracted  \n",
       "3818      Team                  male                  team  "
      ],
      "text/html": [
       "<div>\n",
       "<style scoped>\n",
       "    .dataframe tbody tr th:only-of-type {\n",
       "        vertical-align: middle;\n",
       "    }\n",
       "\n",
       "    .dataframe tbody tr th {\n",
       "        vertical-align: top;\n",
       "    }\n",
       "\n",
       "    .dataframe thead th {\n",
       "        text-align: right;\n",
       "    }\n",
       "</style>\n",
       "<table border=\"1\" class=\"dataframe\">\n",
       "  <thead>\n",
       "    <tr style=\"text-align: right;\">\n",
       "      <th></th>\n",
       "      <th>job1</th>\n",
       "      <th>job2</th>\n",
       "      <th>verb</th>\n",
       "      <th>verb_category</th>\n",
       "      <th>job_gender_1</th>\n",
       "      <th>job_gender_2</th>\n",
       "      <th>sentence</th>\n",
       "      <th>subject_position</th>\n",
       "      <th>translation_neutral</th>\n",
       "      <th>article1</th>\n",
       "      <th>job1_word</th>\n",
       "      <th>article2</th>\n",
       "      <th>job2_word</th>\n",
       "      <th>gender_job1_extracted</th>\n",
       "      <th>gender_job2_extracted</th>\n",
       "    </tr>\n",
       "  </thead>\n",
       "  <tbody>\n",
       "    <tr>\n",
       "      <th>3818</th>\n",
       "      <td>Construction Worker</td>\n",
       "      <td>Kindergarten Teacher</td>\n",
       "      <td>dominated</td>\n",
       "      <td>dominant</td>\n",
       "      <td>male</td>\n",
       "      <td>female</td>\n",
       "      <td>The construction worker dominated the kinderga...</td>\n",
       "      <td>first</td>\n",
       "      <td>Der Bauarbeiter dominierte das Team.</td>\n",
       "      <td>Der</td>\n",
       "      <td>Bauarbeiter</td>\n",
       "      <td>das</td>\n",
       "      <td>Team</td>\n",
       "      <td>male</td>\n",
       "      <td>team</td>\n",
       "    </tr>\n",
       "  </tbody>\n",
       "</table>\n",
       "</div>"
      ]
     },
     "execution_count": 8,
     "metadata": {},
     "output_type": "execute_result"
    }
   ],
   "execution_count": 8
  },
  {
   "metadata": {},
   "cell_type": "markdown",
   "source": "Da es sich hier um eine vollständig falsche Übersetzung handelt, wird diese aus dem Datensatz herausgenommen.",
   "id": "432fb56bd42283a7"
  },
  {
   "metadata": {
    "ExecuteTime": {
     "end_time": "2025-06-30T08:31:07.714700Z",
     "start_time": "2025-06-30T08:31:07.557195Z"
    }
   },
   "cell_type": "code",
   "source": [
    "df_neutral_cleaned = df_neutral[~(invalid_gender_condition & ~allowed_team_case)].copy()\n",
    "df_neutral_cleaned.to_csv(\"../data/processed/translated_df_neutral_cleaned.csv\", index=False)"
   ],
   "id": "9ef5e16ba27ca247",
   "outputs": [],
   "execution_count": 9
  },
  {
   "metadata": {},
   "cell_type": "markdown",
   "source": "## Datensatz: df_feminist",
   "id": "a3c80a1aeaaa1732"
  },
  {
   "metadata": {},
   "cell_type": "code",
   "outputs": [],
   "execution_count": null,
   "source": [
    "df_feminist = extract_genders_from_translation(\"../data/AI_generated/translated_df_feminist.csv\", \"translation\")\n",
    "df_feminist.to_csv(\"../data/processed/translated_df_feminist.csv\", index=False)"
   ],
   "id": "699919ff107fd878"
  },
  {
   "metadata": {},
   "cell_type": "markdown",
   "source": "### Prüfe die Geschlechtszuordnung und Bereinige die Daten",
   "id": "fa520fc4c20adbd9"
  },
  {
   "metadata": {},
   "cell_type": "code",
   "outputs": [],
   "execution_count": null,
   "source": "df  = pd.read_csv(\"../data/processed/translated_df_feminist.csv\")",
   "id": "cad87256334b8485"
  },
  {
   "metadata": {},
   "cell_type": "code",
   "outputs": [],
   "execution_count": null,
   "source": [
    "# Definiere gültige Gender-Werte\n",
    "valid_genders = [\"female\", \"male\"]\n",
    "\n",
    "# Bedingung: gender_job1_extracted oder gender_job2_extracted ist ungültig\n",
    "invalid_gender_condition = (\n",
    "    (df[\"gender_job1_extracted\"].isin(valid_genders) == False) |\n",
    "    (df[\"gender_job2_extracted\"].isin(valid_genders) == False)\n",
    ")\n",
    "\n",
    "# Ausnahme: erlaubter Sonderfall \"team\" bei job2\n",
    "allowed_team_case = (\n",
    "    (df[\"job2\"] == \"team\") &\n",
    "    (df[\"gender_job2_extracted\"] == \"team\")\n",
    ")\n",
    "\n",
    "# Finaler Filter: Nur ungültige Zeilen, aber ohne die erlaubte Ausnahme\n",
    "invalid_rows = df[invalid_gender_condition & (~allowed_team_case)]\n",
    "\n",
    "# Anzeigen\n",
    "invalid_rows"
   ],
   "id": "f623dc3472ed1e90"
  }
 ],
 "metadata": {
  "kernelspec": {
   "display_name": "Python 3",
   "language": "python",
   "name": "python3"
  },
  "language_info": {
   "codemirror_mode": {
    "name": "ipython",
    "version": 2
   },
   "file_extension": ".py",
   "mimetype": "text/x-python",
   "name": "python",
   "nbconvert_exporter": "python",
   "pygments_lexer": "ipython2",
   "version": "2.7.6"
  }
 },
 "nbformat": 4,
 "nbformat_minor": 5
}
