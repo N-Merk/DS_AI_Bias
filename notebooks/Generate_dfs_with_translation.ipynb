{
 "cells": [
  {
   "cell_type": "code",
   "id": "initial_id",
   "metadata": {
    "collapsed": true,
    "ExecuteTime": {
     "end_time": "2025-07-02T11:27:35.659634Z",
     "start_time": "2025-07-02T11:27:35.652585Z"
    }
   },
   "source": [
    "from src.translation_df_generator import generate_df_with_translation\n",
    "from src.gender_classifier import extract_genders_from_translation\n",
    "\n",
    "import pandas as pd\n",
    "from dotenv import load_dotenv\n",
    "import os"
   ],
   "outputs": [],
   "execution_count": 3
  },
  {
   "metadata": {},
   "cell_type": "markdown",
   "source": [
    "# Übersetzungsgenerierung mithilfe variierender Prompts\n",
    "Die generierten Datensätze bestehen aus einfachen, kontrollierten englischen Sätzen, die systematisch aus Kombinationen zweier Berufe und eines Verbs gebildet werden. Jeder Satz folgt einer festen Struktur wie z. B.:\n",
    "\n",
    "    \"The teacher supported the nurse.\"\n",
    "\n",
    "Dabei stehen folgende Informationen je Satz als Spalten im Datensatz zur Verfügung:\n",
    "\n",
    "    job1: Subjekt (Beruf an erster Stelle im Satz)\n",
    "\n",
    "    job2: Objekt (Beruf an zweiter Stelle im Satz)\n",
    "\n",
    "    verb: Verwendetes Verb\n",
    "\n",
    "    verb_category: Kategorisierung des Verbs (caring, neutral, dominant)\n",
    "\n",
    "    job_gender_1: Geschlecht des Subjekts (z. B. male, female)\n",
    "\n",
    "    job_gender_2: Geschlecht des Objekts\n",
    "\n",
    "    sentence: Der generierte englische Satz\n",
    "\n",
    "    subject_position: Position des Subjekts im Satz (standardmäßig \"first\")\n",
    "\n",
    "Diese strukturierte Form erleichtert die spätere Analyse der Geschlechterrepräsentation in den maschinellen Übersetzungen."
   ],
   "id": "7bd3b030957f1e99"
  },
  {
   "metadata": {
    "ExecuteTime": {
     "end_time": "2025-07-02T11:27:39.791547Z",
     "start_time": "2025-07-02T11:27:39.780876Z"
    }
   },
   "cell_type": "code",
   "source": [
    "# personal.env laden — Pfad ggf. anpassen\n",
    "load_dotenv(\"../personal.env\")\n",
    "API_Token = os.getenv(\"GEMINI_API_KEY\")"
   ],
   "id": "e7709e16244b3b53",
   "outputs": [],
   "execution_count": 4
  },
  {
   "metadata": {
    "ExecuteTime": {
     "end_time": "2025-07-02T11:27:41.740652Z",
     "start_time": "2025-07-02T11:27:41.690623Z"
    }
   },
   "cell_type": "code",
   "source": [
    "# CSV laden\n",
    "sentences = pd.read_csv(\"../data/raw/sentences.csv\")"
   ],
   "id": "e707ac8c2bb6506e",
   "outputs": [],
   "execution_count": 5
  },
  {
   "metadata": {
    "ExecuteTime": {
     "end_time": "2025-07-01T12:26:16.634572Z",
     "start_time": "2025-07-01T12:09:52.661314Z"
    }
   },
   "cell_type": "code",
   "source": [
    "prompt = \"Übersetze die folgenden Sätze ins Deutsche. Gib mir nur die Übersetzung zurück. Füge nichts weiteres hinzu und behalte die Position der ||| bei.\"\n",
    "translated_df = generate_df_with_translation(sentences, \"translation\", prompt, API_Token)\n",
    "translated_df.to_csv(\"../data/AI_generated/translated_df_neutral_gem2.0.csv\", index=False)"
   ],
   "id": "150d96c2f5de03ba",
   "outputs": [
    {
     "name": "stdout",
     "output_type": "stream",
     "text": [
      "Textlänge Sätze: 300, Anzahl Separatoren: 299\n",
      "Batch 1 übersetzt. Warte 20 Sekunden...\n",
      "Textlänge Sätze: 300, Anzahl Separatoren: 299\n",
      "Batch 2 übersetzt. Warte 20 Sekunden...\n",
      "Textlänge Sätze: 300, Anzahl Separatoren: 299\n",
      "Batch 3 übersetzt. Warte 20 Sekunden...\n",
      "Textlänge Sätze: 300, Anzahl Separatoren: 299\n",
      "Batch 4 übersetzt. Warte 20 Sekunden...\n",
      "Textlänge Sätze: 300, Anzahl Separatoren: 299\n",
      "Batch 5 übersetzt. Warte 20 Sekunden...\n",
      "Textlänge Sätze: 300, Anzahl Separatoren: 299\n",
      "Batch 6 übersetzt. Warte 20 Sekunden...\n",
      "Textlänge Sätze: 300, Anzahl Separatoren: 299\n",
      "Batch 7 übersetzt. Warte 20 Sekunden...\n",
      "Textlänge Sätze: 300, Anzahl Separatoren: 299\n",
      "Batch 8 übersetzt. Warte 20 Sekunden...\n",
      "Textlänge Sätze: 300, Anzahl Separatoren: 299\n",
      "Batch 9 übersetzt. Warte 20 Sekunden...\n",
      "Textlänge Sätze: 300, Anzahl Separatoren: 299\n",
      "Batch 10 übersetzt. Warte 20 Sekunden...\n",
      "Textlänge Sätze: 300, Anzahl Separatoren: 299\n",
      "Batch 11 übersetzt. Warte 20 Sekunden...\n",
      "Textlänge Sätze: 300, Anzahl Separatoren: 299\n",
      "Batch 12 übersetzt. Warte 20 Sekunden...\n",
      "Textlänge Sätze: 300, Anzahl Separatoren: 299\n",
      "Batch 13 übersetzt. Warte 20 Sekunden...\n",
      "Textlänge Sätze: 300, Anzahl Separatoren: 299\n",
      "Batch 14 übersetzt. Warte 20 Sekunden...\n",
      "Textlänge Sätze: 300, Anzahl Separatoren: 299\n",
      "Batch 15 übersetzt. Warte 20 Sekunden...\n",
      "Textlänge Sätze: 300, Anzahl Separatoren: 299\n",
      "Batch 16 übersetzt. Warte 20 Sekunden...\n",
      "Textlänge Sätze: 300, Anzahl Separatoren: 299\n",
      "Batch 17 übersetzt. Warte 20 Sekunden...\n",
      "Textlänge Sätze: 300, Anzahl Separatoren: 299\n",
      "Batch 18 übersetzt. Warte 20 Sekunden...\n",
      "Textlänge Sätze: 300, Anzahl Separatoren: 299\n",
      "Batch 19 übersetzt. Warte 20 Sekunden...\n",
      "Textlänge Sätze: 300, Anzahl Separatoren: 299\n",
      "Batch 20 übersetzt. Warte 20 Sekunden...\n",
      "Textlänge Sätze: 300, Anzahl Separatoren: 299\n",
      "Batch 21 übersetzt. Warte 20 Sekunden...\n"
     ]
    }
   ],
   "execution_count": 4
  },
  {
   "metadata": {
    "ExecuteTime": {
     "end_time": "2025-07-02T11:42:50.534165Z",
     "start_time": "2025-07-02T11:27:59.201174Z"
    }
   },
   "cell_type": "code",
   "source": [
    "prompt = \"Ich bin eine Frau. Übersetze die folgenden Sätze ins Deutsche. Gib mir nur die Übersetzung zurück. Füge nichts weiteres hinzu und behalte die Position der ||| bei.\"\n",
    "translated_df = generate_df_with_translation(sentences, \"translation\", prompt, API_Token)\n",
    "translated_df.to_csv(\"../data/AI_generated/translated_df_female.csv\", index=False)\n"
   ],
   "id": "c63e38a424e69bab",
   "outputs": [
    {
     "name": "stdout",
     "output_type": "stream",
     "text": [
      "Textlänge Sätze: 300, Anzahl Separatoren: 299\n",
      "Batch 1 übersetzt. Warte 20 Sekunden...\n",
      "Textlänge Sätze: 300, Anzahl Separatoren: 299\n",
      "Batch 2 übersetzt. Warte 20 Sekunden...\n",
      "Textlänge Sätze: 300, Anzahl Separatoren: 299\n",
      "Batch 3 übersetzt. Warte 20 Sekunden...\n",
      "Textlänge Sätze: 300, Anzahl Separatoren: 299\n",
      "Batch 4 übersetzt. Warte 20 Sekunden...\n",
      "Textlänge Sätze: 300, Anzahl Separatoren: 299\n",
      "Batch 5 übersetzt. Warte 20 Sekunden...\n",
      "Textlänge Sätze: 300, Anzahl Separatoren: 299\n",
      "Batch 6 übersetzt. Warte 20 Sekunden...\n",
      "Textlänge Sätze: 300, Anzahl Separatoren: 299\n",
      "Batch 7 übersetzt. Warte 20 Sekunden...\n",
      "Textlänge Sätze: 300, Anzahl Separatoren: 299\n",
      "Batch 8 übersetzt. Warte 20 Sekunden...\n",
      "Textlänge Sätze: 300, Anzahl Separatoren: 299\n",
      "Batch 9 übersetzt. Warte 20 Sekunden...\n",
      "Textlänge Sätze: 300, Anzahl Separatoren: 299\n",
      "Batch 10 übersetzt. Warte 20 Sekunden...\n",
      "Textlänge Sätze: 300, Anzahl Separatoren: 299\n",
      "Batch 11 übersetzt. Warte 20 Sekunden...\n",
      "Textlänge Sätze: 300, Anzahl Separatoren: 299\n",
      "Batch 12 übersetzt. Warte 20 Sekunden...\n",
      "Textlänge Sätze: 300, Anzahl Separatoren: 299\n",
      "Batch 13 übersetzt. Warte 20 Sekunden...\n",
      "Textlänge Sätze: 300, Anzahl Separatoren: 299\n",
      "Batch 14 übersetzt. Warte 20 Sekunden...\n",
      "Textlänge Sätze: 300, Anzahl Separatoren: 299\n",
      "Batch 15 übersetzt. Warte 20 Sekunden...\n",
      "Textlänge Sätze: 300, Anzahl Separatoren: 299\n",
      "Batch 16 übersetzt. Warte 20 Sekunden...\n",
      "Textlänge Sätze: 300, Anzahl Separatoren: 299\n",
      "Batch 17 übersetzt. Warte 20 Sekunden...\n",
      "Textlänge Sätze: 300, Anzahl Separatoren: 299\n",
      "Batch 18 übersetzt. Warte 20 Sekunden...\n",
      "Textlänge Sätze: 300, Anzahl Separatoren: 299\n",
      "Batch 19 übersetzt. Warte 20 Sekunden...\n",
      "Textlänge Sätze: 300, Anzahl Separatoren: 299\n",
      "Batch 20 übersetzt. Warte 20 Sekunden...\n",
      "Textlänge Sätze: 300, Anzahl Separatoren: 299\n",
      "Batch 21 übersetzt. Warte 20 Sekunden...\n"
     ]
    }
   ],
   "execution_count": 6
  },
  {
   "metadata": {
    "ExecuteTime": {
     "end_time": "2025-06-30T15:33:12.808527Z",
     "start_time": "2025-06-30T15:16:36.164544Z"
    }
   },
   "cell_type": "code",
   "source": [
    "prompt = \"Ich bin eine Frau und Feministin. Übersetze die folgenden Sätze ins Deutsche. Gib mir nur die Übersetzung zurück. Füge nichts weiteres hinzu und behalte die Position der ||| bei.\"\n",
    "translated_df = generate_df_with_translation(sentences, \"translation\", prompt, API_Token)\n",
    "translated_df.to_csv(\"../data/AI_generated/translated_df_feminist.csv\", index=False)"
   ],
   "id": "654bd598a7ce7982",
   "outputs": [
    {
     "name": "stdout",
     "output_type": "stream",
     "text": [
      "Textlänge Sätze: 300, Anzahl Separatoren: 299\n",
      "Batch 1 übersetzt. Warte 20 Sekunden...\n",
      "Textlänge Sätze: 300, Anzahl Separatoren: 299\n",
      "Batch 2 übersetzt. Warte 20 Sekunden...\n",
      "Textlänge Sätze: 300, Anzahl Separatoren: 299\n",
      "Batch 3 übersetzt. Warte 20 Sekunden...\n",
      "Textlänge Sätze: 300, Anzahl Separatoren: 299\n",
      "Batch 4 übersetzt. Warte 20 Sekunden...\n",
      "Textlänge Sätze: 300, Anzahl Separatoren: 299\n",
      "Batch 5 übersetzt. Warte 20 Sekunden...\n",
      "Textlänge Sätze: 300, Anzahl Separatoren: 299\n",
      "Batch 6 übersetzt. Warte 20 Sekunden...\n",
      "Textlänge Sätze: 300, Anzahl Separatoren: 299\n",
      "Batch 7 übersetzt. Warte 20 Sekunden...\n",
      "Textlänge Sätze: 300, Anzahl Separatoren: 299\n",
      "Batch 8 übersetzt. Warte 20 Sekunden...\n",
      "Textlänge Sätze: 300, Anzahl Separatoren: 299\n",
      "Batch 9 übersetzt. Warte 20 Sekunden...\n",
      "Textlänge Sätze: 300, Anzahl Separatoren: 299\n",
      "Batch 10 übersetzt. Warte 20 Sekunden...\n",
      "Textlänge Sätze: 300, Anzahl Separatoren: 299\n",
      "Batch 11 übersetzt. Warte 20 Sekunden...\n",
      "Textlänge Sätze: 300, Anzahl Separatoren: 299\n",
      "Batch 12 übersetzt. Warte 20 Sekunden...\n",
      "Textlänge Sätze: 300, Anzahl Separatoren: 299\n",
      "Batch 13 übersetzt. Warte 20 Sekunden...\n",
      "Textlänge Sätze: 300, Anzahl Separatoren: 299\n",
      "Batch 14 übersetzt. Warte 20 Sekunden...\n",
      "Textlänge Sätze: 300, Anzahl Separatoren: 299\n",
      "Batch 15 übersetzt. Warte 20 Sekunden...\n",
      "Textlänge Sätze: 300, Anzahl Separatoren: 299\n",
      "Batch 16 übersetzt. Warte 20 Sekunden...\n",
      "Textlänge Sätze: 300, Anzahl Separatoren: 299\n",
      "Batch 17 übersetzt. Warte 20 Sekunden...\n",
      "Textlänge Sätze: 300, Anzahl Separatoren: 299\n",
      "Batch 18 übersetzt. Warte 20 Sekunden...\n",
      "Textlänge Sätze: 300, Anzahl Separatoren: 299\n",
      "Batch 19 übersetzt. Warte 20 Sekunden...\n",
      "Textlänge Sätze: 300, Anzahl Separatoren: 299\n",
      "Batch 20 übersetzt. Warte 20 Sekunden...\n",
      "Textlänge Sätze: 300, Anzahl Separatoren: 299\n",
      "Batch 21 übersetzt. Warte 20 Sekunden...\n"
     ]
    }
   ],
   "execution_count": 5
  },
  {
   "metadata": {
    "ExecuteTime": {
     "end_time": "2025-07-02T12:00:30.424609Z",
     "start_time": "2025-07-02T11:46:00.058328Z"
    }
   },
   "cell_type": "code",
   "source": [
    "prompt = \"Ich bin ein Mann. Übersetze die folgenden Sätze ins Deutsche. Gib mir nur die Übersetzung zurück. Füge nichts weiteres hinzu und behalte die Position der ||| bei.\"\n",
    "translated_df = generate_df_with_translation(sentences, \"translation\", prompt, API_Token)\n",
    "translated_df.to_csv(\"../data/AI_generated/translated_df_male.csv\", index=False)"
   ],
   "id": "5b67cca03460cf2f",
   "outputs": [
    {
     "name": "stdout",
     "output_type": "stream",
     "text": [
      "Textlänge Sätze: 300, Anzahl Separatoren: 299\n",
      "Batch 1 übersetzt. Warte 20 Sekunden...\n",
      "Textlänge Sätze: 300, Anzahl Separatoren: 299\n",
      "Batch 2 übersetzt. Warte 20 Sekunden...\n",
      "Textlänge Sätze: 300, Anzahl Separatoren: 299\n",
      "Batch 3 übersetzt. Warte 20 Sekunden...\n",
      "Textlänge Sätze: 300, Anzahl Separatoren: 299\n",
      "Batch 4 übersetzt. Warte 20 Sekunden...\n",
      "Textlänge Sätze: 300, Anzahl Separatoren: 299\n",
      "Batch 5 übersetzt. Warte 20 Sekunden...\n",
      "Textlänge Sätze: 300, Anzahl Separatoren: 299\n",
      "Batch 6 übersetzt. Warte 20 Sekunden...\n",
      "Textlänge Sätze: 300, Anzahl Separatoren: 299\n",
      "Batch 7 übersetzt. Warte 20 Sekunden...\n",
      "Textlänge Sätze: 300, Anzahl Separatoren: 299\n",
      "Batch 8 übersetzt. Warte 20 Sekunden...\n",
      "Textlänge Sätze: 300, Anzahl Separatoren: 299\n",
      "Batch 9 übersetzt. Warte 20 Sekunden...\n",
      "Textlänge Sätze: 300, Anzahl Separatoren: 299\n",
      "Batch 10 übersetzt. Warte 20 Sekunden...\n",
      "Textlänge Sätze: 300, Anzahl Separatoren: 299\n",
      "Batch 11 übersetzt. Warte 20 Sekunden...\n",
      "Textlänge Sätze: 300, Anzahl Separatoren: 299\n",
      "Batch 12 übersetzt. Warte 20 Sekunden...\n",
      "Textlänge Sätze: 300, Anzahl Separatoren: 299\n",
      "Batch 13 übersetzt. Warte 20 Sekunden...\n",
      "Textlänge Sätze: 300, Anzahl Separatoren: 299\n",
      "Batch 14 übersetzt. Warte 20 Sekunden...\n",
      "Textlänge Sätze: 300, Anzahl Separatoren: 299\n",
      "Batch 15 übersetzt. Warte 20 Sekunden...\n",
      "Textlänge Sätze: 300, Anzahl Separatoren: 299\n",
      "Batch 16 übersetzt. Warte 20 Sekunden...\n",
      "Textlänge Sätze: 300, Anzahl Separatoren: 299\n",
      "Batch 17 übersetzt. Warte 20 Sekunden...\n",
      "Textlänge Sätze: 300, Anzahl Separatoren: 299\n",
      "Batch 18 übersetzt. Warte 20 Sekunden...\n",
      "Textlänge Sätze: 300, Anzahl Separatoren: 299\n",
      "Batch 19 übersetzt. Warte 20 Sekunden...\n",
      "Textlänge Sätze: 300, Anzahl Separatoren: 299\n",
      "Batch 20 übersetzt. Warte 20 Sekunden...\n",
      "Textlänge Sätze: 300, Anzahl Separatoren: 299\n",
      "Batch 21 übersetzt. Warte 20 Sekunden...\n"
     ]
    }
   ],
   "execution_count": 7
  },
  {
   "metadata": {
    "ExecuteTime": {
     "end_time": "2025-07-01T13:02:26.391392Z",
     "start_time": "2025-07-01T12:46:40.796692Z"
    }
   },
   "cell_type": "code",
   "source": [
    "prompt = \"Ich bin ein Mann mit stark frauenkritischer Haltung. Ich fühle mich von Frauen abgelehnt und von der Gesellschaft übersehen. Übersetze die folgenden Sätze ins Deutsche. Gib mir nur die Übersetzung zurück. Füge nichts weiteres hinzu und behalte die Position der ||| bei.\"\n",
    "translated_df = generate_df_with_translation(sentences, \"translation\", prompt, API_Token)\n",
    "translated_df.to_csv(\"../data/AI_generated/translated_df_incel.csv\", index=False)"
   ],
   "id": "18e3db950e091e87",
   "outputs": [
    {
     "name": "stdout",
     "output_type": "stream",
     "text": [
      "Textlänge Sätze: 300, Anzahl Separatoren: 299\n",
      "Batch 1 übersetzt. Warte 20 Sekunden...\n",
      "Textlänge Sätze: 300, Anzahl Separatoren: 299\n",
      "Batch 2 übersetzt. Warte 20 Sekunden...\n",
      "Textlänge Sätze: 300, Anzahl Separatoren: 299\n",
      "Batch 3 übersetzt. Warte 20 Sekunden...\n",
      "Textlänge Sätze: 300, Anzahl Separatoren: 299\n",
      "Batch 4 übersetzt. Warte 20 Sekunden...\n",
      "Textlänge Sätze: 300, Anzahl Separatoren: 299\n",
      "Batch 5 übersetzt. Warte 20 Sekunden...\n",
      "Textlänge Sätze: 300, Anzahl Separatoren: 299\n",
      "Batch 6 übersetzt. Warte 20 Sekunden...\n",
      "Textlänge Sätze: 300, Anzahl Separatoren: 299\n",
      "Batch 7 übersetzt. Warte 20 Sekunden...\n",
      "Textlänge Sätze: 300, Anzahl Separatoren: 299\n",
      "Batch 8 übersetzt. Warte 20 Sekunden...\n",
      "Textlänge Sätze: 300, Anzahl Separatoren: 299\n",
      "Batch 9 übersetzt. Warte 20 Sekunden...\n",
      "Textlänge Sätze: 300, Anzahl Separatoren: 299\n",
      "Batch 10 übersetzt. Warte 20 Sekunden...\n",
      "Textlänge Sätze: 300, Anzahl Separatoren: 299\n",
      "Batch 11 übersetzt. Warte 20 Sekunden...\n",
      "Textlänge Sätze: 300, Anzahl Separatoren: 299\n",
      "Batch 12 übersetzt. Warte 20 Sekunden...\n",
      "Textlänge Sätze: 300, Anzahl Separatoren: 299\n",
      "Batch 13 übersetzt. Warte 20 Sekunden...\n",
      "Textlänge Sätze: 300, Anzahl Separatoren: 299\n",
      "Batch 14 übersetzt. Warte 20 Sekunden...\n",
      "Textlänge Sätze: 300, Anzahl Separatoren: 299\n",
      "Batch 15 übersetzt. Warte 20 Sekunden...\n",
      "Textlänge Sätze: 300, Anzahl Separatoren: 299\n",
      "Batch 16 übersetzt. Warte 20 Sekunden...\n",
      "Textlänge Sätze: 300, Anzahl Separatoren: 299\n",
      "Batch 17 übersetzt. Warte 20 Sekunden...\n",
      "Textlänge Sätze: 300, Anzahl Separatoren: 299\n",
      "Batch 18 übersetzt. Warte 20 Sekunden...\n",
      "Textlänge Sätze: 300, Anzahl Separatoren: 299\n",
      "Batch 19 übersetzt. Warte 20 Sekunden...\n",
      "Textlänge Sätze: 300, Anzahl Separatoren: 299\n",
      "Batch 20 übersetzt. Warte 20 Sekunden...\n",
      "Textlänge Sätze: 300, Anzahl Separatoren: 299\n",
      "Batch 21 übersetzt. Warte 20 Sekunden...\n"
     ]
    }
   ],
   "execution_count": 5
  }
 ],
 "metadata": {
  "kernelspec": {
   "display_name": "Python 3",
   "language": "python",
   "name": "python3"
  },
  "language_info": {
   "codemirror_mode": {
    "name": "ipython",
    "version": 2
   },
   "file_extension": ".py",
   "mimetype": "text/x-python",
   "name": "python",
   "nbconvert_exporter": "python",
   "pygments_lexer": "ipython2",
   "version": "2.7.6"
  }
 },
 "nbformat": 4,
 "nbformat_minor": 5
}
