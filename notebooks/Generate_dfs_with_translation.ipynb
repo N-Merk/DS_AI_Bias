{
 "cells": [
  {
   "cell_type": "code",
   "id": "initial_id",
   "metadata": {
    "collapsed": true,
    "ExecuteTime": {
     "end_time": "2025-06-30T15:16:20.008142Z",
     "start_time": "2025-06-30T15:16:18.986482Z"
    }
   },
   "source": [
    "from src.translation_df_generator import generate_df_with_translation\n",
    "from src.gender_classifier import extract_genders_from_translation\n",
    "\n",
    "import pandas as pd\n",
    "from dotenv import load_dotenv\n",
    "import os"
   ],
   "outputs": [
    {
     "name": "stderr",
     "output_type": "stream",
     "text": [
      "C:\\Users\\namel\\.conda\\envs\\PoliticalDS\\Lib\\site-packages\\tqdm\\auto.py:21: TqdmWarning: IProgress not found. Please update jupyter and ipywidgets. See https://ipywidgets.readthedocs.io/en/stable/user_install.html\n",
      "  from .autonotebook import tqdm as notebook_tqdm\n"
     ]
    }
   ],
   "execution_count": 1
  },
  {
   "metadata": {},
   "cell_type": "markdown",
   "source": [
    "# Übersetzungsgenerierung mithilfe variierender Prompts\n",
    "Die generierten Datensätze bestehen aus einfachen, kontrollierten englischen Sätzen, die systematisch aus Kombinationen zweier Berufe und eines Verbs gebildet werden. Jeder Satz folgt einer festen Struktur wie z. B.:\n",
    "\n",
    "    \"The teacher supported the nurse.\"\n",
    "\n",
    "Dabei stehen folgende Informationen je Satz als Spalten im Datensatz zur Verfügung:\n",
    "\n",
    "    job1: Subjekt (Beruf an erster Stelle im Satz)\n",
    "\n",
    "    job2: Objekt (Beruf an zweiter Stelle im Satz)\n",
    "\n",
    "    verb: Verwendetes Verb\n",
    "\n",
    "    verb_category: Kategorisierung des Verbs (caring, neutral, dominant)\n",
    "\n",
    "    job_gender_1: Geschlecht des Subjekts (z. B. male, female)\n",
    "\n",
    "    job_gender_2: Geschlecht des Objekts\n",
    "\n",
    "    sentence: Der generierte englische Satz\n",
    "\n",
    "    subject_position: Position des Subjekts im Satz (standardmäßig \"first\")\n",
    "\n",
    "Diese strukturierte Form erleichtert die spätere Analyse der Geschlechterrepräsentation in den maschinellen Übersetzungen."
   ],
   "id": "7bd3b030957f1e99"
  },
  {
   "metadata": {
    "ExecuteTime": {
     "end_time": "2025-06-30T15:16:26.335999Z",
     "start_time": "2025-06-30T15:16:26.329209Z"
    }
   },
   "cell_type": "code",
   "source": [
    "# personal.env laden — Pfad ggf. anpassen\n",
    "load_dotenv(\"../personal.env\")\n",
    "API_Token = os.getenv(\"GEMINI_API_KEY\")"
   ],
   "id": "e7709e16244b3b53",
   "outputs": [],
   "execution_count": 2
  },
  {
   "metadata": {
    "ExecuteTime": {
     "end_time": "2025-06-30T15:16:30.669331Z",
     "start_time": "2025-06-30T15:16:30.630830Z"
    }
   },
   "cell_type": "code",
   "source": [
    "# CSV laden\n",
    "sentences = pd.read_csv(\"../data/raw/sentences.csv\")"
   ],
   "id": "e707ac8c2bb6506e",
   "outputs": [],
   "execution_count": 4
  },
  {
   "metadata": {
    "ExecuteTime": {
     "end_time": "2025-06-30T15:58:05.593839Z",
     "start_time": "2025-06-30T15:46:01.519817Z"
    }
   },
   "cell_type": "code",
   "source": [
    "prompt = \"Übersetze die folgenden Sätze ins Deutsche. Gib mir nur die Übersetzung zurück. Füge nichts weiteres hinzu und behalte die Position der ||| bei.\"\n",
    "translated_df = generate_df_with_translation(sentences, \"translation_neutral\", prompt, API_Token)\n",
    "translated_df.to_csv(\"../data/AI_generated/translated_df_neutral_gem2.0.csv\", index=False)"
   ],
   "id": "150d96c2f5de03ba",
   "outputs": [
    {
     "name": "stdout",
     "output_type": "stream",
     "text": [
      "Textlänge Sätze: 300, Anzahl Separatoren: 299\n",
      "Batch 1 übersetzt. Warte 20 Sekunden...\n",
      "Textlänge Sätze: 300, Anzahl Separatoren: 299\n",
      "Batch 2 übersetzt. Warte 20 Sekunden...\n",
      "Textlänge Sätze: 300, Anzahl Separatoren: 299\n",
      "Batch 3 übersetzt. Warte 20 Sekunden...\n",
      "Ein Fehler ist aufgetreten: 504 Deadline Exceeded\n"
     ]
    },
    {
     "ename": "AttributeError",
     "evalue": "'NoneType' object has no attribute 'split'",
     "output_type": "error",
     "traceback": [
      "\u001B[31m---------------------------------------------------------------------------\u001B[39m",
      "\u001B[31mAttributeError\u001B[39m                            Traceback (most recent call last)",
      "\u001B[36mCell\u001B[39m\u001B[36m \u001B[39m\u001B[32mIn[7]\u001B[39m\u001B[32m, line 2\u001B[39m\n\u001B[32m      1\u001B[39m prompt = \u001B[33m\"\u001B[39m\u001B[33mÜbersetze die folgenden Sätze ins Deutsche. Gib mir nur die Übersetzung zurück. Füge nichts weiteres hinzu und behalte die Position der ||| bei.\u001B[39m\u001B[33m\"\u001B[39m\n\u001B[32m----> \u001B[39m\u001B[32m2\u001B[39m translated_df = \u001B[43mgenerate_df_with_translation\u001B[49m\u001B[43m(\u001B[49m\u001B[43msentences\u001B[49m\u001B[43m,\u001B[49m\u001B[43m \u001B[49m\u001B[33;43m\"\u001B[39;49m\u001B[33;43mtranslation_neutral\u001B[39;49m\u001B[33;43m\"\u001B[39;49m\u001B[43m,\u001B[49m\u001B[43m \u001B[49m\u001B[43mprompt\u001B[49m\u001B[43m,\u001B[49m\u001B[43m \u001B[49m\u001B[43mAPI_Token\u001B[49m\u001B[43m)\u001B[49m\n\u001B[32m      3\u001B[39m translated_df.to_csv(\u001B[33m\"\u001B[39m\u001B[33m../data/AI_generated/translated_df_neutral_gem2.0.csv\u001B[39m\u001B[33m\"\u001B[39m, index=\u001B[38;5;28;01mFalse\u001B[39;00m)\n",
      "\u001B[36mFile \u001B[39m\u001B[32mC:\\01b_TUM\\25_SoSe_MA_2\\PoliticalDS\\src\\translation_df_generator.py:22\u001B[39m, in \u001B[36mgenerate_df_with_translation\u001B[39m\u001B[34m(df, new_col_name, prompt, API_Token)\u001B[39m\n\u001B[32m     19\u001B[39m translated_text = process_translation_batch(batch, col_name, API_Token, prompt, separator=separator)\n\u001B[32m     21\u001B[39m \u001B[38;5;66;03m# 3. Übersetzung dem Batch hinzufügen\u001B[39;00m\n\u001B[32m---> \u001B[39m\u001B[32m22\u001B[39m batch = \u001B[43madd_translations_to_df\u001B[49m\u001B[43m(\u001B[49m\u001B[43mbatch\u001B[49m\u001B[43m,\u001B[49m\u001B[43m \u001B[49m\u001B[43mtranslated_text\u001B[49m\u001B[43m,\u001B[49m\u001B[43m \u001B[49m\u001B[43mseparator\u001B[49m\u001B[43m,\u001B[49m\u001B[43m \u001B[49m\u001B[43mnew_columnname\u001B[49m\u001B[43m=\u001B[49m\u001B[43mnew_col_name\u001B[49m\u001B[43m)\u001B[49m\n\u001B[32m     24\u001B[39m \u001B[38;5;66;03m# 4. Batch speichern\u001B[39;00m\n\u001B[32m     25\u001B[39m translated_batches.append(batch)\n",
      "\u001B[36mFile \u001B[39m\u001B[32mC:\\01b_TUM\\25_SoSe_MA_2\\PoliticalDS\\src\\data_cleaning.py:29\u001B[39m, in \u001B[36madd_translations_to_df\u001B[39m\u001B[34m(df, translated_text, separator, new_columnname)\u001B[39m\n\u001B[32m      5\u001B[39m \u001B[38;5;250m\u001B[39m\u001B[33;03m\"\"\"\u001B[39;00m\n\u001B[32m      6\u001B[39m \u001B[33;03mFügt einem bestehenden DataFrame eine neue Spalte mit übersetzten Sätzen hinzu.\u001B[39;00m\n\u001B[32m      7\u001B[39m \n\u001B[32m   (...)\u001B[39m\u001B[32m     25\u001B[39m \u001B[33;03m    ValueError: Wenn die Anzahl der übersetzten Sätze nicht mit der Anzahl der DataFrame-Zeilen übereinstimmt.\u001B[39;00m\n\u001B[32m     26\u001B[39m \u001B[33;03m\"\"\"\u001B[39;00m\n\u001B[32m     28\u001B[39m \u001B[38;5;66;03m# Übersetzung anhand Separator aufsplitten\u001B[39;00m\n\u001B[32m---> \u001B[39m\u001B[32m29\u001B[39m splitted_translations = \u001B[43mtranslated_text\u001B[49m\u001B[43m.\u001B[49m\u001B[43msplit\u001B[49m(separator)\n\u001B[32m     31\u001B[39m \u001B[38;5;66;03m# Achtung: Bei Trennzeichen wie \". \" kann das letzte Element leer oder mit abschließendem Punkt sein\u001B[39;00m\n\u001B[32m     32\u001B[39m \u001B[38;5;66;03m# Optional: Trim spaces bei jedem Element\u001B[39;00m\n\u001B[32m     33\u001B[39m splitted_translations = [t.strip() \u001B[38;5;28;01mfor\u001B[39;00m t \u001B[38;5;129;01min\u001B[39;00m splitted_translations \u001B[38;5;28;01mif\u001B[39;00m t.strip() != \u001B[33m\"\u001B[39m\u001B[33m\"\u001B[39m]\n",
      "\u001B[31mAttributeError\u001B[39m: 'NoneType' object has no attribute 'split'"
     ]
    }
   ],
   "execution_count": 7
  },
  {
   "metadata": {},
   "cell_type": "code",
   "source": [
    "prompt = \"Ich bin eine Frau. Übersetze die folgenden Sätze ins Deutsche. Gib mir nur die Übersetzung zurück. Füge nichts weiteres hinzu.\"\n",
    "translated_df = generate_df_with_translation(sentences, \"translation\", prompt, API_Token)\n",
    "translated_df.to_csv(\"../data/AI_generated/translated_df_female.csv\", index=False)\n"
   ],
   "id": "c63e38a424e69bab",
   "outputs": [],
   "execution_count": null
  },
  {
   "metadata": {
    "ExecuteTime": {
     "end_time": "2025-06-30T15:33:12.808527Z",
     "start_time": "2025-06-30T15:16:36.164544Z"
    }
   },
   "cell_type": "code",
   "source": [
    "prompt = \"Ich bin eine Frau und Feministin. Übersetze die folgenden Sätze ins Deutsche. Gib mir nur die Übersetzung zurück. Füge nichts weiteres hinzu und behalte die Position der ||| bei.\"\n",
    "translated_df = generate_df_with_translation(sentences, \"translation\", prompt, API_Token)\n",
    "translated_df.to_csv(\"../data/AI_generated/translated_df_feminist.csv\", index=False)"
   ],
   "id": "654bd598a7ce7982",
   "outputs": [
    {
     "name": "stdout",
     "output_type": "stream",
     "text": [
      "Textlänge Sätze: 300, Anzahl Separatoren: 299\n",
      "Batch 1 übersetzt. Warte 20 Sekunden...\n",
      "Textlänge Sätze: 300, Anzahl Separatoren: 299\n",
      "Batch 2 übersetzt. Warte 20 Sekunden...\n",
      "Textlänge Sätze: 300, Anzahl Separatoren: 299\n",
      "Batch 3 übersetzt. Warte 20 Sekunden...\n",
      "Textlänge Sätze: 300, Anzahl Separatoren: 299\n",
      "Batch 4 übersetzt. Warte 20 Sekunden...\n",
      "Textlänge Sätze: 300, Anzahl Separatoren: 299\n",
      "Batch 5 übersetzt. Warte 20 Sekunden...\n",
      "Textlänge Sätze: 300, Anzahl Separatoren: 299\n",
      "Batch 6 übersetzt. Warte 20 Sekunden...\n",
      "Textlänge Sätze: 300, Anzahl Separatoren: 299\n",
      "Batch 7 übersetzt. Warte 20 Sekunden...\n",
      "Textlänge Sätze: 300, Anzahl Separatoren: 299\n",
      "Batch 8 übersetzt. Warte 20 Sekunden...\n",
      "Textlänge Sätze: 300, Anzahl Separatoren: 299\n",
      "Batch 9 übersetzt. Warte 20 Sekunden...\n",
      "Textlänge Sätze: 300, Anzahl Separatoren: 299\n",
      "Batch 10 übersetzt. Warte 20 Sekunden...\n",
      "Textlänge Sätze: 300, Anzahl Separatoren: 299\n",
      "Batch 11 übersetzt. Warte 20 Sekunden...\n",
      "Textlänge Sätze: 300, Anzahl Separatoren: 299\n",
      "Batch 12 übersetzt. Warte 20 Sekunden...\n",
      "Textlänge Sätze: 300, Anzahl Separatoren: 299\n",
      "Batch 13 übersetzt. Warte 20 Sekunden...\n",
      "Textlänge Sätze: 300, Anzahl Separatoren: 299\n",
      "Batch 14 übersetzt. Warte 20 Sekunden...\n",
      "Textlänge Sätze: 300, Anzahl Separatoren: 299\n",
      "Batch 15 übersetzt. Warte 20 Sekunden...\n",
      "Textlänge Sätze: 300, Anzahl Separatoren: 299\n",
      "Batch 16 übersetzt. Warte 20 Sekunden...\n",
      "Textlänge Sätze: 300, Anzahl Separatoren: 299\n",
      "Batch 17 übersetzt. Warte 20 Sekunden...\n",
      "Textlänge Sätze: 300, Anzahl Separatoren: 299\n",
      "Batch 18 übersetzt. Warte 20 Sekunden...\n",
      "Textlänge Sätze: 300, Anzahl Separatoren: 299\n",
      "Batch 19 übersetzt. Warte 20 Sekunden...\n",
      "Textlänge Sätze: 300, Anzahl Separatoren: 299\n",
      "Batch 20 übersetzt. Warte 20 Sekunden...\n",
      "Textlänge Sätze: 300, Anzahl Separatoren: 299\n",
      "Batch 21 übersetzt. Warte 20 Sekunden...\n"
     ]
    }
   ],
   "execution_count": 5
  },
  {
   "metadata": {},
   "cell_type": "code",
   "source": [
    "prompt = \"Ich bin ein Mann. Übersetze die folgenden Sätze ins Deutsche. Gib mir nur die Übersetzung zurück. Füge nichts weiteres hinzu.\"\n",
    "translated_df = generate_df_with_translation(sentences, \"translation\", prompt, API_Token)\n",
    "translated_df.to_csv(\"../data/AI_generated/translated_df_male.csv\", index=False)"
   ],
   "id": "5b67cca03460cf2f",
   "outputs": [],
   "execution_count": null
  },
  {
   "metadata": {},
   "cell_type": "code",
   "source": [
    "prompt = \"Ich bin ein Mann mit stark frauenkritischer Haltung. Ich fühle mich von Frauen abgelehnt und von der Gesellschaft übersehen. Übersetze die folgenden Sätze ins Deutsche. Gib mir nur die Übersetzung zurück. Füge nichts weiteres hinzu.\"\n",
    "translated_df = generate_df_with_translation(sentences, \"translation\", prompt, API_Token)\n",
    "translated_df.to_csv(\"../data/AI_generated/translated_df_incel.csv\", index=False)"
   ],
   "id": "18e3db950e091e87",
   "outputs": [],
   "execution_count": null
  }
 ],
 "metadata": {
  "kernelspec": {
   "display_name": "Python 3",
   "language": "python",
   "name": "python3"
  },
  "language_info": {
   "codemirror_mode": {
    "name": "ipython",
    "version": 2
   },
   "file_extension": ".py",
   "mimetype": "text/x-python",
   "name": "python",
   "nbconvert_exporter": "python",
   "pygments_lexer": "ipython2",
   "version": "2.7.6"
  }
 },
 "nbformat": 4,
 "nbformat_minor": 5
}
