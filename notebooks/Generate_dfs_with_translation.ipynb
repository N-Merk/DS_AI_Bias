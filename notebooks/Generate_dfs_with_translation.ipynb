{
 "cells": [
  {
   "cell_type": "code",
   "id": "initial_id",
   "metadata": {
    "collapsed": true,
    "ExecuteTime": {
     "end_time": "2025-06-29T16:41:26.817432Z",
     "start_time": "2025-06-29T16:41:25.842051Z"
    }
   },
   "source": [
    "from src.dataframe_generator import generate_whole_dataframe\n",
    "from src.translation_df_generator import generate_df_with_translation\n",
    "from src.gender_classifier import extract_genders_from_translation\n",
    "\n",
    "import pandas as pd\n",
    "from dotenv import load_dotenv\n",
    "import os"
   ],
   "outputs": [
    {
     "name": "stderr",
     "output_type": "stream",
     "text": [
      "C:\\Users\\namel\\.conda\\envs\\PoliticalDS\\Lib\\site-packages\\tqdm\\auto.py:21: TqdmWarning: IProgress not found. Please update jupyter and ipywidgets. See https://ipywidgets.readthedocs.io/en/stable/user_install.html\n",
      "  from .autonotebook import tqdm as notebook_tqdm\n"
     ]
    }
   ],
   "execution_count": 1
  },
  {
   "metadata": {},
   "cell_type": "markdown",
   "source": [
    "# Datengenerierung und Übersetzung mithilfe variierender Prompts\n",
    "Die generierten Datensätze bestehen aus einfachen, kontrollierten englischen Sätzen, die systematisch aus Kombinationen zweier Berufe und eines Verbs gebildet werden. Jeder Satz folgt einer festen Struktur wie z. B.:\n",
    "\n",
    "    \"The teacher supported the nurse.\"\n",
    "\n",
    "Dabei stehen folgende Informationen je Satz als Spalten im Datensatz zur Verfügung:\n",
    "\n",
    "    job1: Subjekt (Beruf an erster Stelle im Satz)\n",
    "\n",
    "    job2: Objekt (Beruf an zweiter Stelle im Satz)\n",
    "\n",
    "    verb: Verwendetes Verb\n",
    "\n",
    "    verb_category: Kategorisierung des Verbs (caring, neutral, dominant)\n",
    "\n",
    "    job_gender_1: Geschlecht des Subjekts (z. B. male, female)\n",
    "\n",
    "    job_gender_2: Geschlecht des Objekts\n",
    "\n",
    "    sentence: Der generierte englische Satz\n",
    "\n",
    "    subject_position: Position des Subjekts im Satz (standardmäßig \"first\")\n",
    "\n",
    "Diese strukturierte Form erleichtert die spätere Analyse der Geschlechterrepräsentation in den maschinellen Übersetzungen."
   ],
   "id": "7bd3b030957f1e99"
  },
  {
   "metadata": {},
   "cell_type": "code",
   "source": [
    "# personal.env laden — Pfad ggf. anpassen\n",
    "load_dotenv(\"../personal.env\")\n",
    "API_Token = os.getenv(\"GEMINI_API_KEY\")\n",
    "print(\"Geladener API-Key:\", API_Token)"
   ],
   "id": "e7709e16244b3b53",
   "outputs": [],
   "execution_count": null
  },
  {
   "metadata": {},
   "cell_type": "code",
   "source": [
    "sentences = generate_whole_dataframe()\n",
    "print(sentences.head())"
   ],
   "id": "82939a05455e431c",
   "outputs": [],
   "execution_count": null
  },
  {
   "metadata": {},
   "cell_type": "code",
   "source": "sentences.to_csv(\"../data/raw/sentences.csv\", index=False)",
   "id": "1415facefc97581",
   "outputs": [],
   "execution_count": null
  },
  {
   "metadata": {},
   "cell_type": "code",
   "source": [
    "prompt = \"Übersetze die folgenden Sätze ins Deutsche. Gib mir nur die Übersetzung zurück. Füge nichts weiteres hinzu.\"\n",
    "translated_df = generate_df_with_translation(sentences, \"translation_neutral\", prompt, API_Token)\n",
    "translated_df.to_csv(\"../data/AI_generated/translated_df_neutral.csv\", index=False)"
   ],
   "id": "150d96c2f5de03ba",
   "outputs": [],
   "execution_count": null
  },
  {
   "metadata": {},
   "cell_type": "code",
   "source": [
    "prompt = \"Ich bin eine Frau. Übersetze die folgenden Sätze ins Deutsche. Gib mir nur die Übersetzung zurück. Füge nichts weiteres hinzu.\"\n",
    "translated_df = generate_df_with_translation(sentences, \"translation_female\", prompt, API_Token)\n",
    "translated_df.to_csv(\"../data/AI_generated/translated_df_female.csv\", index=False)\n"
   ],
   "id": "c63e38a424e69bab",
   "outputs": [],
   "execution_count": null
  },
  {
   "metadata": {},
   "cell_type": "code",
   "source": [
    "prompt = \"Ich bin Frau und Feministin. Übersetze die folgenden Sätze ins Deutsche. Gib mir nur die Übersetzung zurück. Füge nichts weiteres hinzu.\"\n",
    "translated_df = generate_df_with_translation(sentences, \"translation_feminist\", prompt, API_Token)\n",
    "translated_df.to_csv(\"../data/AI_generated/translated_df_feminist.csv\", index=False)"
   ],
   "id": "654bd598a7ce7982",
   "outputs": [],
   "execution_count": null
  },
  {
   "metadata": {},
   "cell_type": "code",
   "source": [
    "prompt = \"Ich bin ein Mann. Übersetze die folgenden Sätze ins Deutsche. Gib mir nur die Übersetzung zurück. Füge nichts weiteres hinzu.\"\n",
    "translated_df = generate_df_with_translation(sentences, \"translation_male\", prompt, API_Token)\n",
    "translated_df.to_csv(\"../data/AI_generated/translated_df_male.csv\", index=False)"
   ],
   "id": "5b67cca03460cf2f",
   "outputs": [],
   "execution_count": null
  },
  {
   "metadata": {},
   "cell_type": "code",
   "source": [
    "prompt = \"Ich bin ein Mann mit einer stark frauenkritischen Haltung. Übersetze die folgenden Sätze ins Deutsche. Gib mir nur die Übersetzung zurück. Füge nichts weiteres hinzu.\"\n",
    "translated_df = generate_df_with_translation(sentences, \"translation_incel\", prompt, API_Token)\n",
    "translated_df.to_csv(\"../data/AI_generated/translated_df_incel.csv\", index=False)"
   ],
   "id": "18e3db950e091e87",
   "outputs": [],
   "execution_count": null
  },
  {
   "metadata": {},
   "cell_type": "markdown",
   "source": [
    "# Extraktion von M/F-Labels aus Übersetzungen\n",
    "Ergebnis: Erweiterung des DataFrames um zwei neue Spalten:\n",
    "- `translated_gender_1`: Geschlecht von `job1` (basierend auf Übersetzung)\n",
    "- `translated_gender_2`: Geschlecht von `job2` (basierend auf Übersetzung)"
   ],
   "id": "e8425f7e1717bc3"
  },
  {
   "metadata": {
    "ExecuteTime": {
     "end_time": "2025-06-29T16:41:33.093504Z",
     "start_time": "2025-06-29T16:41:31.735730Z"
    }
   },
   "cell_type": "code",
   "source": "df_neutral = extract_genders_from_translation(\"../data/AI_generated/translated_df_neutral.csv\", \"translation_neutral\")",
   "id": "266186d66db57975",
   "outputs": [],
   "execution_count": 2
  },
  {
   "metadata": {
    "ExecuteTime": {
     "end_time": "2025-06-29T16:41:39.267946Z",
     "start_time": "2025-06-29T16:41:39.166536Z"
    }
   },
   "cell_type": "code",
   "source": "df_neutral.to_csv(\"../data/processed/translated_df_neutral.csv\", index=False)\n",
   "id": "9f28992abaa2e818",
   "outputs": [],
   "execution_count": 3
  }
 ],
 "metadata": {
  "kernelspec": {
   "display_name": "Python 3",
   "language": "python",
   "name": "python3"
  },
  "language_info": {
   "codemirror_mode": {
    "name": "ipython",
    "version": 2
   },
   "file_extension": ".py",
   "mimetype": "text/x-python",
   "name": "python",
   "nbconvert_exporter": "python",
   "pygments_lexer": "ipython2",
   "version": "2.7.6"
  }
 },
 "nbformat": 4,
 "nbformat_minor": 5
}
