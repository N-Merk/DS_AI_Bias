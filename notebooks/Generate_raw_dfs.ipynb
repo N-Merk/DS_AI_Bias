{
 "cells": [
  {
   "cell_type": "code",
   "id": "initial_id",
   "metadata": {
    "collapsed": true,
    "ExecuteTime": {
     "end_time": "2025-06-30T07:14:17.545754Z",
     "start_time": "2025-06-30T07:14:17.535492Z"
    }
   },
   "source": [
    "from src.dataframe_generator import generate_whole_dataframe\n",
    "from data.raw.professions import df_female, df_male\n",
    "\n",
    "import pandas as pd"
   ],
   "outputs": [],
   "execution_count": 1
  },
  {
   "metadata": {},
   "cell_type": "markdown",
   "source": "# Generiere die Raw-Dataframes",
   "id": "54eea94bfc784478"
  },
  {
   "metadata": {},
   "cell_type": "code",
   "outputs": [],
   "execution_count": null,
   "source": [
    "sentences = generate_whole_dataframe()\n",
    "print(sentences.head())"
   ],
   "id": "8a9b4bcdd019dfbc"
  },
  {
   "metadata": {},
   "cell_type": "code",
   "outputs": [],
   "execution_count": null,
   "source": "sentences.to_csv(\"../data/raw/sentences.csv\", index=False)",
   "id": "faa87185a63ac1f3"
  }
 ],
 "metadata": {
  "kernelspec": {
   "display_name": "Python 3",
   "language": "python",
   "name": "python3"
  },
  "language_info": {
   "codemirror_mode": {
    "name": "ipython",
    "version": 2
   },
   "file_extension": ".py",
   "mimetype": "text/x-python",
   "name": "python",
   "nbconvert_exporter": "python",
   "pygments_lexer": "ipython2",
   "version": "2.7.6"
  }
 },
 "nbformat": 4,
 "nbformat_minor": 5
}
